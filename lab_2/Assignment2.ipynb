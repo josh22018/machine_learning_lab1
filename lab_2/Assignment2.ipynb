{
 "cells": [
  {
   "cell_type": "markdown",
   "metadata": {},
   "source": [
    "Machine learning Lab 2\n",
    "AIE 22018\n",
    "Monday, January 7th, 2019\n",
    "Instructor: Dr. peeta basa pati\n",
    "Objective: To understand the concept of  machine learning and to apply it using Python programming"
   ]
  },
  {
   "cell_type": "markdown",
   "metadata": {},
   "source": [
    "Questions assigned for lab2:\n",
    "\n",
    "1.Write a function to calculate the Euclidean distance and Manhattan distance between two vectors. The vectors dimension is variable. Please don’t use any distance calculation functions available in Python.\n",
    "2.Write a function to implement k-NN classifier. k is a variable and based on that the count of neighbors should be selected. \n",
    "3.Write a function to convert categorical variables to numeric using label encoding. Don’t use any existing functionalities.\n",
    "4.Write a function to convert categorical variables to numeric using One-Hotencoding. Don’t use any existing functionalities."
   ]
  },
  {
   "cell_type": "code",
   "execution_count": 1,
   "metadata": {},
   "outputs": [
    {
     "name": "stdout",
     "output_type": "stream",
     "text": [
      "the vectors are([7, 7], [7, 7])\n",
      "Euclidian distance : 0.0\n",
      "Manhattan distance : 0\n"
     ]
    }
   ],
   "source": [
    "# Write a function to calculate the Euclidean distance and Manhattan distance between two vectors. The vectors dimension is variable.\n",
    "def caluculate_distances(x,y):\n",
    "    if(len(x)!=len(y)):\n",
    "        return -1\n",
    "    else:\n",
    "       euc=Euclidean_distance(x,y)\n",
    "       man=Manhattan_distance(x,y)\n",
    "       return [euc,man] # returning  the list of distances\n",
    "        \n",
    "def Euclidean_distance(point1, point2):\n",
    "    sum=0\n",
    "    for i in range(len(point1)):\n",
    "        sum+= (point1[i]-point2[i])**2# Euclidian distance = |x(i)-y(i)|^2 sum of all the squares of the absolute differnces.\n",
    "        \n",
    "    dist=sum**0.5\n",
    "    return dist\n",
    "        \n",
    "def Manhattan_distance(point1, point2):\n",
    "    sum=0\n",
    "    for i in range(len(point1)):\n",
    "        sum+= abs(point1[i]-point2[i])# manhattan distance = |x(i)-y(i)| sum of all the absolute differnces.\n",
    "    dist=sum\n",
    "    return dist\n",
    "x=[]\n",
    "y=[]\n",
    "key=int(input(\"Enter the length of the vector :\"))\n",
    "for i in range(key):\n",
    "    x.append(int(input(f\"Enter {i}th element of first vector: \")))\n",
    "    y.append(int(input(f\"Enter {i}th element of second vector: \")))\n",
    "dist=caluculate_distances(x,y)\n",
    "print(f\"the vectors are{x,y}\")\n",
    "print(f\"Euclidian distance : {dist[0]}\")\n",
    "print(f\"Manhattan distance : {dist[1]}\")"
   ]
  },
  {
   "cell_type": "code",
   "execution_count": 3,
   "metadata": {},
   "outputs": [],
   "source": [
    "import numpy as np\n",
    "from sklearn.neighbors import KNeighborsClassifier"
   ]
  },
  {
   "cell_type": "code",
   "execution_count": 11,
   "metadata": {},
   "outputs": [
    {
     "name": "stdout",
     "output_type": "stream",
     "text": [
      "predicted class :['class2' 'class1']\n"
     ]
    }
   ],
   "source": [
    "# predicting classes using knn classifier.\n",
    "x=np.array([[1,2,3],[3,4,5],[1,2,1],[9,5,4],[1,0,8]])# x is a 2D numpy array filled with points\n",
    "y=np.array(['class1','class2','class1','class2','class1'])#  y is the class of each point in x (a 1D numpy array) in the plane\n",
    "k=3\n",
    "knn=KNeighborsClassifier(k)# Main K-nearest neighbor function\n",
    "knn.fit(x,y)\n",
    "predictions=np.array([[7,7,7],[1,1,1]])# 2-d array for comparsion\n",
    "print(f\"predicted class :{knn.predict(predictions)}\")\n"
   ]
  },
  {
   "cell_type": "code",
   "execution_count": 13,
   "metadata": {},
   "outputs": [
    {
     "name": "stdout",
     "output_type": "stream",
     "text": [
      "Original Data:\n",
      " ['cat', 'dog', 'toy', 'dog', 'cat']\n",
      "Encoded data:[0, 1, 2, 1, 0]\n"
     ]
    }
   ],
   "source": [
    "# a function to convert categorical variables to numeric using label encoding.\n",
    "def label_encoder(data):\n",
    "    classes=[]\n",
    "    for categ in data:\n",
    "        if categ not in classes:\n",
    "            classes.append(categ)\n",
    "    encoded_data=[]\n",
    "    for item in data:\n",
    "        index=classes.index(item)\n",
    "        encoded_data.append(index)\n",
    "    return encoded_data\n",
    "data=[\"cat\",\"dog\",\"toy\",\"dog\",\"cat\"]\n",
    "print(\"Original Data:\\n\",data)\n",
    "print(f\"Encoded data:{label_encoder(data)}\")"
   ]
  },
  {
   "cell_type": "code",
   "execution_count": 17,
   "metadata": {},
   "outputs": [
    {
     "name": "stdout",
     "output_type": "stream",
     "text": [
      "Encoded data :[array([1., 0., 0., 0.]), array([0., 1., 0., 0.]), array([0., 0., 1., 0.]), array([0., 0., 0., 1.]), array([1., 0., 0., 0.]), array([0., 0., 1., 0.]), array([0., 0., 0., 1.])]\n"
     ]
    }
   ],
   "source": [
    "#a function to convert categorical variables to numeric using One-Hotencoding\n",
    "def one_hot(data,categories):\n",
    "    len_data=len(categories)\n",
    "    k=0\n",
    "    modified_data=[]\n",
    "    for item in data:\n",
    "        encoded_data=np.zeros(len_data)\n",
    "        if item in categories:\n",
    "            index=categories.index(item)\n",
    "            encoded_data[index]=1\n",
    "            modified_data.append(encoded_data)\n",
    "        k+=1\n",
    "    return modified_data\n",
    "data=[\"red\",\"yellow\",\"green\",\"blue\",\"red\",\"green\",\"blue\"]\n",
    "categories=[\"red\",\"yellow\",\"green\",\"blue\"]\n",
    "onehot=one_hot(data,categories)\n",
    "print(f\"Encoded data :{onehot}\")"
   ]
  }
 ],
 "metadata": {
  "kernelspec": {
   "display_name": "Python 3",
   "language": "python",
   "name": "python3"
  },
  "language_info": {
   "codemirror_mode": {
    "name": "ipython",
    "version": 3
   },
   "file_extension": ".py",
   "mimetype": "text/x-python",
   "name": "python",
   "nbconvert_exporter": "python",
   "pygments_lexer": "ipython3",
   "version": "3.11.5"
  }
 },
 "nbformat": 4,
 "nbformat_minor": 2
}
